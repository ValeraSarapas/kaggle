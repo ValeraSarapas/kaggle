{
 "cells": [
  {
   "cell_type": "markdown",
   "metadata": {},
   "source": [
    "# Deep Learning: Linear Stochastic Gradient Descent"
   ]
  },
  {
   "cell_type": "code",
   "execution_count": 235,
   "metadata": {
    "collapsed": true
   },
   "outputs": [],
   "source": [
    "%matplotlib inline\n",
    "import numpy as np\n",
    "\n",
    "from matplotlib import pyplot as plt"
   ]
  },
  {
   "cell_type": "code",
   "execution_count": 236,
   "metadata": {
    "collapsed": false
   },
   "outputs": [
    {
     "name": "stdout",
     "output_type": "stream",
     "text": [
      "[  4.17022005e-01   7.20324493e-01   1.14374817e-04   3.02332573e-01]\n"
     ]
    }
   ],
   "source": [
    "# Create a random X axis points.\n",
    "np.random.seed(1)\n",
    "X = np.random.random(4)\n",
    "print X"
   ]
  },
  {
   "cell_type": "code",
   "execution_count": 237,
   "metadata": {
    "collapsed": true
   },
   "outputs": [],
   "source": [
    "def lin(a, b, x): return a*x + b "
   ]
  },
  {
   "cell_type": "code",
   "execution_count": 238,
   "metadata": {
    "collapsed": false
   },
   "outputs": [],
   "source": [
    "# We define the slope \"a\"\n",
    "a = 10.\n",
    "# We define the y-intercept var \"b\"\n",
    "b = 3.\n",
    "# We define the len of the X.\n",
    "n = len(X)"
   ]
  },
  {
   "cell_type": "code",
   "execution_count": 239,
   "metadata": {
    "collapsed": false
   },
   "outputs": [],
   "source": [
    "# Create y axis points which follows a linear form.\n",
    "y = lin(a, b, X)"
   ]
  },
  {
   "cell_type": "code",
   "execution_count": 240,
   "metadata": {
    "collapsed": false
   },
   "outputs": [
    {
     "data": {
      "text/plain": [
       "<matplotlib.collections.PathCollection at 0x115f6cfd0>"
      ]
     },
     "execution_count": 240,
     "metadata": {},
     "output_type": "execute_result"
    },
    {
     "data": {
      "image/png": "[encoded data removed]",
      "text/plain": [
       "<matplotlib.figure.Figure at 0x115e1ac90>"
      ]
     },
     "metadata": {},
     "output_type": "display_data"
    }
   ],
   "source": [
    "plt.scatter(X, y)"
   ]
  },
  {
   "cell_type": "code",
   "execution_count": 241,
   "metadata": {
    "collapsed": true
   },
   "outputs": [],
   "source": [
    "# We choose the Least Square Errors (lse) as cost function.\n",
    "# But we return the sum of all those errors for measuring the performance.\n",
    "def sse(y, y_pred): return ((y-y_pred)**2).sum()"
   ]
  },
  {
   "cell_type": "code",
   "execution_count": 242,
   "metadata": {
    "collapsed": false
   },
   "outputs": [],
   "source": [
    "# The loss function is the comparison of a perfect regression line with a line created using\n",
    "# our guessed \"a\" and \"b\" using the cost function.\n",
    "def loss(y, a, b, X): return sse(y, lin(a, b, X))"
   ]
  },
  {
   "cell_type": "code",
   "execution_count": 243,
   "metadata": {
    "collapsed": true
   },
   "outputs": [],
   "source": [
    "# This function represents the average loss per point.\n",
    "def avg_loss(y, a, b, X): return np.sqrt(loss(y, a, b, X)/n)"
   ]
  },
  {
   "cell_type": "code",
   "execution_count": 244,
   "metadata": {
    "collapsed": true
   },
   "outputs": [],
   "source": [
    "# We define the random numbers that will conform the initial approximation line.\n",
    "a_guess = -1\n",
    "b_guess = 2"
   ]
  },
  {
   "cell_type": "code",
   "execution_count": 245,
   "metadata": {
    "collapsed": false
   },
   "outputs": [
    {
     "data": {
      "text/plain": [
       "5.7131690554944567"
      ]
     },
     "execution_count": 245,
     "metadata": {},
     "output_type": "execute_result"
    }
   ],
   "source": [
    "# As we can see we get a really bad approximation at the beginning.\n",
    "avg_loss(y, a_guess, b_guess, X)"
   ]
  },
  {
   "cell_type": "code",
   "execution_count": 246,
   "metadata": {
    "collapsed": true
   },
   "outputs": [],
   "source": [
    "lr=0.6 # This is the learning rate"
   ]
  },
  {
   "cell_type": "code",
   "execution_count": 247,
   "metadata": {
    "collapsed": true
   },
   "outputs": [],
   "source": [
    "# The partial derivatives of the cost function (lse) are:\n",
    "# d[(y-(a*x+b))**2,b] = 2 (b + a x - y)      = 2 (y_pred - y)\n",
    "# d[(y-(a*x+b))**2,a] = 2 x (b + a x - y)    = x * dy/db\n",
    "\n",
    "# This tells us how much is changing df with regards of \"b\" and \"a\" respectively."
   ]
  },
  {
   "cell_type": "code",
   "execution_count": 251,
   "metadata": {
    "collapsed": true
   },
   "outputs": [],
   "source": [
    "def update():\n",
    "    print '-----------------------------------------------'\n",
    "    global a_guess, b_guess\n",
    "    # We calculate the current \"guessed\" line based on the iterative process.\n",
    "    y_pred = lin(a_guess, b_guess, X)\n",
    "    # Now, in order to iterate again we need to calculate how much the\n",
    "    # derivative of the cost function changes depending on \"a\" and \"b\".\n",
    "    # d[(y-(a*x+b))**2,a] = 2 x (b + a x - y)    = x * dy/db\n",
    "    # d[(y-(a*x+b))**2,b] = 2 (b + a x - y)      = 2 (y_pred - y)\n",
    "    dydb = 2 * (y_pred - y)\n",
    "    dyda = X * dydb\n",
    "    print 'dy/da: {}'.format(dyda)\n",
    "    print 'dy/db: {}'.format(dydb)\n",
    "    print 'Current a_guess = {}'.format(a_guess)\n",
    "    print 'Current b_guess = {}'.format(b_guess)\n",
    "    # Because these changes always tell us how to go higher instead than\n",
    "    # lower, we need to substract it from the previous\n",
    "    # guesses in order to approach the minimum. Please notice how the speed is\n",
    "    # controlled by the defined learning rate.\n",
    "    print 'Formula a: a_guess -= lr * dyda.mean()'\n",
    "    print 'Formula b: b_guess -= lr * dydb.mean()'\n",
    "    print '* Where:'\n",
    "    print 'Learning rate = {}'.format(lr)\n",
    "    print 'dyda.mean() = {}'.format(dyda.mean())\n",
    "    print 'dydb.mean() = {}'.format(dydb.mean())\n",
    "    print '* Result:'\n",
    "    a_guess -= lr * dyda.mean()\n",
    "    b_guess -= lr * dydb.mean()\n",
    "    print 'New a_guess = {}'.format(a_guess)\n",
    "    print 'New b_guess = {}'.format(b_guess)\n"
   ]
  },
  {
   "cell_type": "code",
   "execution_count": 252,
   "metadata": {
    "collapsed": false
   },
   "outputs": [
    {
     "data": {
      "image/png": "[encoded data removed]",
      "text/plain": [
       "<matplotlib.figure.Figure at 0x116944550>"
      ]
     },
     "metadata": {},
     "output_type": "display_data"
    }
   ],
   "source": [
    "plt.plot(X, y, 'ro')\n",
    "line, = plt.plot(X, lin(a_guess, b_guess, X))"
   ]
  },
  {
   "cell_type": "code",
   "execution_count": 253,
   "metadata": {
    "collapsed": false
   },
   "outputs": [
    {
     "name": "stdout",
     "output_type": "stream",
     "text": [
      "-----------------------------------------------\n",
      "dy/da: [ -1.99349856e-03  -3.22108978e+00   7.01723736e-04   5.09227288e-01]\n",
      "dy/db: [ -4.78031984e-03  -4.47172046e+00   6.13529929e+00   1.68432823e+00]\n",
      "Current a_guess = 2.63616305654\n",
      "Current b_guess = 6.06849188454\n",
      "Formula a: a_guess -= lr * dyda.mean()\n",
      "Formula b: b_guess -= lr * dydb.mean()\n",
      "* Where:\n",
      "Learning rate = 0.6\n",
      "dyda.mean() = -0.678288566022\n",
      "dydb.mean() = 0.835781686277\n",
      "* Result:\n",
      "New a_guess = 3.04313619615\n",
      "New b_guess = 5.56702287278\n",
      "-----------------------------------------------\n",
      "dy/da: [ -2.78689481e-01  -3.52120043e+00   5.87023531e-04   2.80405202e-01]\n",
      "dy/db: [-0.66828483 -4.88835305  5.13245437  0.92747268]\n",
      "Current a_guess = 3.04313619615\n",
      "Current b_guess = 5.56702287278\n",
      "Formula a: a_guess -= lr * dyda.mean()\n",
      "Formula b: b_guess -= lr * dydb.mean()\n",
      "* Where:\n",
      "Learning rate = 0.6\n",
      "dyda.mean() = -0.879724421659\n",
      "dydb.mean() = 0.125822292219\n",
      "* Result:\n",
      "New a_guess = 3.57097084915\n",
      "New b_guess = 5.49152949745\n",
      "-----------------------------------------------\n",
      "dy/da: [ -1.58065625e-01  -3.08220752e+00   5.69768258e-04   3.31250426e-01]\n",
      "dy/db: [-0.37903425 -4.27891534  4.98158836  1.09564915]\n",
      "Current a_guess = 3.57097084915\n",
      "Current b_guess = 5.49152949745\n",
      "Formula a: a_guess -= lr * dyda.mean()\n",
      "Formula b: b_guess -= lr * dydb.mean()\n",
      "* Where:\n",
      "Learning rate = 0.6\n",
      "dyda.mean() = -0.727113238422\n",
      "dydb.mean() = 0.354821978426\n",
      "* Result:\n",
      "New a_guess = 4.0072387922\n",
      "New b_guess = 5.27863631039\n"
     ]
    },
    {
     "data": {
      "text/plain": [
       "1.5499545846314433"
      ]
     },
     "execution_count": 253,
     "metadata": {},
     "output_type": "execute_result"
    }
   ],
   "source": [
    "# We can see how why are getting better.\n",
    "for i in range(3):\n",
    "    update()\n",
    "\n",
    "avg_loss(y, a_guess, b_guess, X)"
   ]
  },
  {
   "cell_type": "code",
   "execution_count": 230,
   "metadata": {
    "collapsed": false
   },
   "outputs": [
    {
     "data": {
      "image/png": "[encoded data removed]",
      "text/plain": [
       "<matplotlib.figure.Figure at 0x116d96650>"
      ]
     },
     "metadata": {},
     "output_type": "display_data"
    }
   ],
   "source": [
    "plt.plot(X, y, 'ro')\n",
    "line, = plt.plot(X, lin(a_guess, b_guess, X))"
   ]
  },
  {
   "cell_type": "code",
   "execution_count": 231,
   "metadata": {
    "collapsed": false
   },
   "outputs": [
    {
     "name": "stdout",
     "output_type": "stream",
     "text": [
      "-----------------------------------------------\n",
      "Learning rate: 0.6\n",
      "dy/da: [ -1.99349856e-03  -3.22108978e+00   7.01723736e-04   5.09227288e-01]\n",
      "dy/da - mean: -0.678288566022\n",
      "dy/db: [ -4.78031984e-03  -4.47172046e+00   6.13529929e+00   1.68432823e+00]\n",
      "dy/db - mean: 0.835781686277\n",
      "Current a_guess 2.63616305654\n",
      "Current b_guess 6.06849188454\n",
      "New a_guess 3.04313619615\n",
      "New b_guess 5.56702287278\n",
      "-----------------------------------------------\n",
      "Learning rate: 0.6\n",
      "dy/da: [ -2.78689481e-01  -3.52120043e+00   5.87023531e-04   2.80405202e-01]\n",
      "dy/da - mean: -0.879724421659\n",
      "dy/db: [-0.66828483 -4.88835305  5.13245437  0.92747268]\n",
      "dy/db - mean: 0.125822292219\n",
      "Current a_guess 3.04313619615\n",
      "Current b_guess 5.56702287278\n",
      "New a_guess 3.57097084915\n",
      "New b_guess 5.49152949745\n",
      "-----------------------------------------------\n",
      "Learning rate: 0.6\n",
      "dy/da: [ -1.58065625e-01  -3.08220752e+00   5.69768258e-04   3.31250426e-01]\n",
      "dy/da - mean: -0.727113238422\n",
      "dy/db: [-0.37903425 -4.27891534  4.98158836  1.09564915]\n",
      "dy/db - mean: 0.354821978426\n",
      "Current a_guess 3.57097084915\n",
      "Current b_guess 5.49152949745\n",
      "New a_guess 4.0072387922\n",
      "New b_guess 5.27863631039\n"
     ]
    },
    {
     "data": {
      "text/plain": [
       "1.5499545846314433"
      ]
     },
     "execution_count": 231,
     "metadata": {},
     "output_type": "execute_result"
    }
   ],
   "source": [
    "# And even better!\n",
    "for i in range(3):\n",
    "    update()\n",
    "\n",
    "avg_loss(y, a_guess, b_guess, X)"
   ]
  },
  {
   "cell_type": "code",
   "execution_count": 232,
   "metadata": {
    "collapsed": false,
    "scrolled": false
   },
   "outputs": [
    {
     "data": {
      "image/png": "[encoded data removed]",
      "text/plain": [
       "<matplotlib.figure.Figure at 0x116c78d50>"
      ]
     },
     "metadata": {},
     "output_type": "display_data"
    }
   ],
   "source": [
    "plt.plot(X, y, 'ro')\n",
    "line, = plt.plot(X, lin(a_guess, b_guess, X))"
   ]
  },
  {
   "cell_type": "code",
   "execution_count": 233,
   "metadata": {
    "collapsed": false
   },
   "outputs": [
    {
     "name": "stdout",
     "output_type": "stream",
     "text": [
      "-----------------------------------------------\n",
      "Learning rate: 0.6\n",
      "dy/da: [ -1.83887506e-01  -2.93618147e+00   5.21080434e-04   2.82275465e-01]\n",
      "dy/da - mean: -0.709318108107\n",
      "dy/db: [-0.44095396 -4.07619274  4.55590178  0.93365879]\n",
      "dy/db - mean: 0.24310346678\n",
      "Current a_guess 4.0072387922\n",
      "Current b_guess 5.27863631039\n",
      "New a_guess 4.43282965706\n",
      "New b_guess 5.13277423032\n",
      "-----------------------------------------------\n",
      "Learning rate: 0.6\n",
      "dy/da: [ -1.57516139e-01  -2.70466710e+00   4.87725671e-04   2.71880002e-01]\n",
      "dy/da - mean: -0.647453877669\n",
      "dy/db: [-0.37771661 -3.75478985  4.26427497  0.8992746 ]\n",
      "dy/db - mean: 0.257760775512\n",
      "Current a_guess 4.43282965706\n",
      "Current b_guess 5.13277423032\n",
      "New a_guess 4.82130198366\n",
      "New b_guess 4.97811776502\n",
      "-----------------------------------------------\n",
      "Learning rate: 0.6\n",
      "dy/da: [ -1.51390050e-01  -2.52434155e+00   4.52358225e-04   2.49381242e-01]\n",
      "dy/da - mean: -0.606474498923\n",
      "dy/db: [-0.36302653 -3.50445052  3.9550509   0.82485734]\n",
      "dy/db - mean: 0.228107799715\n",
      "Current a_guess 4.82130198366\n",
      "Current b_guess 4.97811776502\n",
      "New a_guess 5.18518668302\n",
      "New b_guess 4.84125308519\n",
      "-----------------------------------------------\n",
      "Learning rate: 0.6\n",
      "dy/da: [ -1.38976767e-01  -2.34389971e+00   4.21060000e-04   2.33145691e-01]\n",
      "dy/da - mean: -0.562327431515\n",
      "dy/db: [-0.33326003 -3.25394976  3.68140478  0.77115638]\n",
      "dy/db - mean: 0.216337842598\n",
      "Current a_guess 5.18518668302\n",
      "Current b_guess 4.84125308519\n",
      "New a_guess 5.52258314193\n",
      "New b_guess 4.71145037963\n",
      "-----------------------------------------------\n",
      "Learning rate: 0.6\n",
      "dy/da: [ -1.29886486e-01  -2.18077182e+00   3.91376506e-04   2.16337956e-01]\n",
      "dy/da - mean: -0.523482242537\n",
      "dy/db: [-0.31146195 -3.0274853   3.42187655  0.71556284]\n",
      "dy/db - mean: 0.199623036532\n",
      "Current a_guess 5.52258314193\n",
      "Current b_guess 4.71145037963\n",
      "New a_guess 5.83667248745\n",
      "New b_guess 4.59167655771\n",
      "-----------------------------------------------\n",
      "Learning rate: 0.6\n",
      "dy/da: [ -1.20538232e-01  -2.02738242e+00   3.63986505e-04   2.01333564e-01]\n",
      "dy/da - mean: -0.486555775987\n",
      "dy/db: [-0.28904526 -2.81454045  3.18240076  0.66593408]\n",
      "dy/db - mean: 0.186187283201\n",
      "Current a_guess 5.83667248745\n",
      "Current b_guess 4.59167655771\n",
      "New a_guess 6.12860595304\n",
      "New b_guess 4.47996418779\n",
      "-----------------------------------------------\n",
      "Learning rate: 0.6\n",
      "dy/da: [ -1.12172513e-01  -1.88537123e+00   3.38439979e-04   1.87153335e-01]\n",
      "dy/da - mean: -0.452512992487\n",
      "dy/db: [-0.26898464 -2.61739154  2.9590428   0.61903133]\n",
      "dy/db - mean: 0.172924488515\n",
      "Current a_guess 6.12860595304\n",
      "Current b_guess 4.47996418779\n",
      "New a_guess 6.40011374853\n",
      "New b_guess 4.37620949468\n",
      "-----------------------------------------------\n",
      "Learning rate: 0.6\n",
      "dy/da: [ -1.04274089e-01  -1.75309225e+00   3.14713235e-04   1.74050820e-01]\n",
      "dy/da - mean: -0.420750201718\n",
      "dy/db: [-0.25004457 -2.43375349  2.75159552  0.57569325]\n",
      "dy/db - mean: 0.160872674486\n",
      "Current a_guess 6.40011374853\n",
      "Current b_guess 4.37620949468\n",
      "New a_guess 6.65256386956\n",
      "New b_guess 4.27968588999\n",
      "-----------------------------------------------\n",
      "Learning rate: 0.6\n",
      "dy/da: [ -9.69731591e-02  -1.63017262e+00   2.92640100e-04   1.61836759e-01]\n",
      "dy/da - mean: -0.391254095062\n",
      "dy/db: [-0.23253727 -2.26310869  2.55860606  0.53529383]\n",
      "dy/db - mean: 0.149563479903\n",
      "Current a_guess 6.65256386956\n",
      "Current b_guess 4.27968588999\n",
      "New a_guess 6.8873163266\n",
      "New b_guess 4.18994780205\n",
      "-----------------------------------------------\n",
      "Learning rate: 0.6\n",
      "dy/da: [ -9.01683172e-02  -1.51584292e+00   2.72118687e-04   1.50490355e-01]\n",
      "dy/da - mean: -0.363812191784\n",
      "dy/db: [-0.21621957 -2.10438898  2.37918358  0.49776428]\n",
      "dy/db - mean: 0.139084828509\n",
      "Current a_guess 6.8873163266\n",
      "Current b_guess 4.18994780205\n",
      "New a_guess 7.10560364167\n",
      "New b_guess 4.10649690494\n",
      "-----------------------------------------------\n",
      "Learning rate: 0.6\n",
      "dy/da: [ -8.38465000e-02  -1.40954204e+00   2.53035036e-04   1.39935603e-01]\n",
      "dy/da - mean: -0.338299975684\n",
      "dy/db: [-0.20106013 -1.95681537  2.21233172  0.46285322]\n",
      "dy/db - mean: 0.129327357046\n",
      "Current a_guess 7.10560364167\n",
      "Current b_guess 4.10649690494\n",
      "New a_guess 7.30858362708\n",
      "New b_guess 4.02890049071\n",
      "-----------------------------------------------\n",
      "Learning rate: 0.6\n",
      "dy/da: [ -7.79659007e-02  -1.31069185e+00   2.35290195e-04   1.30122521e-01]\n",
      "dy/da - mean: -0.314574985335\n",
      "dy/db: [-0.18695872 -1.81958529  2.05718532  0.43039531]\n",
      "dy/db - mean: 0.120259154881\n",
      "Current a_guess 7.30858362708\n",
      "Current b_guess 4.02890049071\n",
      "New a_guess 7.49732861828\n",
      "New b_guess 3.95674499778\n",
      "-----------------------------------------------\n",
      "Learning rate: 0.6\n",
      "dy/da: [ -7.24984739e-02  -1.21877535e+00   2.18789591e-04   1.20997075e-01]\n",
      "dy/da - mean: -0.292514490502\n",
      "dy/db: [-0.17384808 -1.691981    1.91291751  0.40021184]\n",
      "dy/db - mean: 0.111825069634\n",
      "Current a_guess 7.49732861828\n",
      "Current b_guess 3.95674499778\n",
      "New a_guess 7.67283731258\n",
      "New b_guess 3.889649956\n",
      "-----------------------------------------------\n",
      "Learning rate: 0.6\n",
      "dy/da: [ -6.74141869e-02  -1.13330429e+00   2.03446216e-04   1.12511781e-01]\n",
      "dy/da - mean: -0.272000811308\n",
      "dy/db: [-0.16165619 -1.57332466  1.77876757  0.37214575]\n",
      "dy/db - mean: 0.103983119923\n",
      "Current a_guess 7.67283731258\n",
      "Current b_guess 3.889649956\n",
      "New a_guess 7.83603779937\n",
      "New b_guess 3.82726008405\n",
      "-----------------------------------------------\n",
      "Learning rate: 0.6\n",
      "dy/da: [ -6.26865567e-02  -1.05382737e+00   1.89178826e-04   1.04621476e-01]\n",
      "dy/da - mean: -0.252925819173\n",
      "dy/db: [-0.15031954 -1.46298978  1.65402516  0.34604765]\n",
      "dy/db - mean: 0.0966908716105\n",
      "Current a_guess 7.83603779937\n",
      "Current b_guess 3.82726008405\n",
      "New a_guess 7.98779329087\n",
      "New b_guess 3.76924556108\n"
     ]
    },
    {
     "data": {
      "text/plain": [
       "0.52077385521080499"
      ]
     },
     "execution_count": 233,
     "metadata": {},
     "output_type": "execute_result"
    }
   ],
   "source": [
    "# And even better!\n",
    "for i in range(15):\n",
    "    update()\n",
    "\n",
    "avg_loss(y, a_guess, b_guess, X)"
   ]
  },
  {
   "cell_type": "code",
   "execution_count": 234,
   "metadata": {
    "collapsed": false
   },
   "outputs": [
    {
     "data": {
      "image/png": "[encoded data removed]",
      "text/plain": [
       "<matplotlib.figure.Figure at 0x116963ed0>"
      ]
     },
     "metadata": {},
     "output_type": "display_data"
    }
   ],
   "source": [
    "plt.plot(X, y, 'ro')\n",
    "line, = plt.plot(X, lin(a_guess, b_guess, X))"
   ]
  }
 ],
 "metadata": {
  "anaconda-cloud": {},
  "kernelspec": {
   "display_name": "Python [conda root]",
   "language": "python",
   "name": "conda-root-py"
  },
  "language_info": {
   "codemirror_mode": {
    "name": "ipython",
    "version": 2
   },
   "file_extension": ".py",
   "mimetype": "text/x-python",
   "name": "python",
   "nbconvert_exporter": "python",
   "pygments_lexer": "ipython2",
   "version": "2.7.13"
  }
 },
 "nbformat": 4,
 "nbformat_minor": 2
}
